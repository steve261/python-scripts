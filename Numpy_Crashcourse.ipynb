{
 "cells": [
  {
   "cell_type": "code",
   "execution_count": null,
   "id": "43209902-49e1-4455-908f-8362d27e50e2",
   "metadata": {},
   "outputs": [],
   "source": [
    "##Create a numpy array\n"
   ]
  },
  {
   "cell_type": "code",
   "execution_count": 1,
   "id": "c61e9f1b-32f9-44d3-a157-3b5eef802f43",
   "metadata": {},
   "outputs": [
    {
     "name": "stdout",
     "output_type": "stream",
     "text": [
      "[1 2 3]\n"
     ]
    }
   ],
   "source": [
    "import numpy as np  # Import NumPy and alias it as 'np'\n",
    "\n",
    "# Define your list\n",
    "my_list = [1, 2, 3]\n",
    "\n",
    "# Create a NumPy array from the list using 'np' alias\n",
    "array1 = np.array(my_list)\n",
    "\n",
    "# Print the NumPy array\n",
    "print(array1)\n"
   ]
  },
  {
   "cell_type": "code",
   "execution_count": null,
   "id": "18e94929-84e4-47bd-ae03-5fe2fec9e0f7",
   "metadata": {},
   "outputs": [],
   "source": [
    "##Multi dimensional array"
   ]
  },
  {
   "cell_type": "code",
   "execution_count": 9,
   "id": "310b4e25-2dad-407d-93d7-4f2d443b86cb",
   "metadata": {},
   "outputs": [],
   "source": [
    "b=np.array([[1,2,3],[3,4,5]])"
   ]
  },
  {
   "cell_type": "code",
   "execution_count": 10,
   "id": "b8b37635-ff9d-40d0-939e-12e4369960d3",
   "metadata": {},
   "outputs": [
    {
     "name": "stdout",
     "output_type": "stream",
     "text": [
      "[[1 2 3]\n",
      " [3 4 5]]\n"
     ]
    }
   ],
   "source": [
    "print(b)"
   ]
  },
  {
   "cell_type": "code",
   "execution_count": 12,
   "id": "daf64370-96f8-4946-884c-ce98627111e2",
   "metadata": {},
   "outputs": [
    {
     "data": {
      "text/plain": [
       "(2, 3)"
      ]
     },
     "execution_count": 12,
     "metadata": {},
     "output_type": "execute_result"
    }
   ],
   "source": [
    "b.shape  ##Rows by column"
   ]
  },
  {
   "cell_type": "code",
   "execution_count": 14,
   "id": "86b12811-ae86-4ba7-8e2d-3355459d2444",
   "metadata": {},
   "outputs": [
    {
     "data": {
      "text/plain": [
       "(3,)"
      ]
     },
     "execution_count": 14,
     "metadata": {},
     "output_type": "execute_result"
    }
   ],
   "source": [
    "array1.shape\n"
   ]
  },
  {
   "cell_type": "code",
   "execution_count": 15,
   "id": "7b8c5077-14dc-4325-bb5d-2ada783e21b3",
   "metadata": {},
   "outputs": [
    {
     "data": {
      "text/plain": [
       "dtype('int32')"
      ]
     },
     "execution_count": 15,
     "metadata": {},
     "output_type": "execute_result"
    }
   ],
   "source": [
    "b.dtype"
   ]
  },
  {
   "cell_type": "code",
   "execution_count": 16,
   "id": "73a77e58-b2d7-48e7-a3e4-ddf5c7c9a852",
   "metadata": {},
   "outputs": [
    {
     "data": {
      "text/plain": [
       "2"
      ]
     },
     "execution_count": 16,
     "metadata": {},
     "output_type": "execute_result"
    }
   ],
   "source": [
    "b.ndim ## Number of rows"
   ]
  },
  {
   "cell_type": "code",
   "execution_count": 17,
   "id": "6b96832d-bb15-474c-b72a-61bf54e0730d",
   "metadata": {},
   "outputs": [
    {
     "name": "stdout",
     "output_type": "stream",
     "text": [
      "<class 'numpy.ndarray'>\n"
     ]
    }
   ],
   "source": [
    "print(type(array1))"
   ]
  },
  {
   "cell_type": "code",
   "execution_count": 19,
   "id": "f37e5453-ffe4-4875-ad1b-792142368c4b",
   "metadata": {},
   "outputs": [
    {
     "data": {
      "text/plain": [
       "array([ 0,  1,  2,  3,  4,  5,  6,  7,  8,  9, 10, 11, 12, 13, 14, 15, 16,\n",
       "       17, 18, 19, 20, 21, 22, 23, 24, 25, 26, 27, 28, 29, 30, 31, 32, 33,\n",
       "       34, 35, 36, 37, 38, 39, 40, 41, 42, 43, 44, 45, 46, 47, 48, 49, 50,\n",
       "       51, 52, 53, 54, 55, 56, 57, 58, 59, 60, 61, 62, 63, 64, 65, 66, 67,\n",
       "       68, 69, 70, 71, 72, 73, 74, 75, 76, 77, 78, 79, 80, 81, 82, 83, 84,\n",
       "       85, 86, 87, 88, 89, 90, 91, 92, 93, 94, 95, 96, 97, 98, 99])"
      ]
     },
     "execution_count": 19,
     "metadata": {},
     "output_type": "execute_result"
    }
   ],
   "source": [
    "np.arange(100)  ## returns values from zero to 99"
   ]
  },
  {
   "cell_type": "code",
   "execution_count": 22,
   "id": "2af7b67b-a04f-4918-9325-2816ea2a7939",
   "metadata": {},
   "outputs": [],
   "source": [
    "c=range(10000)"
   ]
  },
  {
   "cell_type": "code",
   "execution_count": 23,
   "id": "8ff1235c-6f09-48d6-8ac9-6dbe25d372bc",
   "metadata": {},
   "outputs": [
    {
     "name": "stdout",
     "output_type": "stream",
     "text": [
      "3.97 ms ± 499 µs per loop (mean ± std. dev. of 7 runs, 100 loops each)\n"
     ]
    }
   ],
   "source": [
    "%timeit [i**3 for i in c]"
   ]
  },
  {
   "cell_type": "code",
   "execution_count": 25,
   "id": "28d16903-fe30-4ab6-92cc-b0f60e6237df",
   "metadata": {},
   "outputs": [
    {
     "name": "stdout",
     "output_type": "stream",
     "text": [
      "90.7 ns ± 13.7 ns per loop (mean ± std. dev. of 7 runs, 10,000,000 loops each)\n"
     ]
    }
   ],
   "source": [
    "c_numpy=np.arange(10000)\n",
    "%timeit c_numpy"
   ]
  },
  {
   "cell_type": "code",
   "execution_count": 26,
   "id": "ef9a77ea-1c39-4aaa-8892-4eb7a65753d7",
   "metadata": {},
   "outputs": [],
   "source": [
    "d=np.arange(12)"
   ]
  },
  {
   "cell_type": "code",
   "execution_count": 27,
   "id": "4ab120a7-de6f-4244-bc95-b1f785d284ea",
   "metadata": {},
   "outputs": [
    {
     "name": "stdout",
     "output_type": "stream",
     "text": [
      "[ 0  1  2  3  4  5  6  7  8  9 10 11]\n"
     ]
    }
   ],
   "source": [
    "print(d)"
   ]
  },
  {
   "cell_type": "code",
   "execution_count": 28,
   "id": "66ec5218-c08a-4c38-8594-43da4d59c3f8",
   "metadata": {},
   "outputs": [
    {
     "name": "stdout",
     "output_type": "stream",
     "text": [
      "[ 2  3  4  5  6  7  8  9 10 11 12 13 14 15 16 17 18 19]\n"
     ]
    }
   ],
   "source": [
    "e=np.arange(2,20)\n",
    "print(e)"
   ]
  },
  {
   "cell_type": "code",
   "execution_count": 32,
   "id": "479cd9a0-0295-48b2-b781-ede6f3a57691",
   "metadata": {},
   "outputs": [
    {
     "name": "stdout",
     "output_type": "stream",
     "text": [
      "[1 3 5 7 9]\n"
     ]
    }
   ],
   "source": [
    "e1=np.arange(1,10,2)\n",
    "print(e1)"
   ]
  },
  {
   "cell_type": "code",
   "execution_count": 33,
   "id": "9f081325-5847-4bb8-a26d-3526f5fcea5f",
   "metadata": {},
   "outputs": [
    {
     "name": "stdout",
     "output_type": "stream",
     "text": [
      "[[0. 0.]\n",
      " [0. 0.]\n",
      " [0. 0.]]\n"
     ]
    }
   ],
   "source": [
    "print(np.zeros((3,2)))"
   ]
  },
  {
   "cell_type": "code",
   "execution_count": 34,
   "id": "bbb0d0a3-394e-4b2d-9649-3756f6c7196c",
   "metadata": {},
   "outputs": [
    {
     "name": "stdout",
     "output_type": "stream",
     "text": [
      "[[1. 1. 1. 1. 1.]\n",
      " [1. 1. 1. 1. 1.]]\n"
     ]
    }
   ],
   "source": [
    "print(np.ones((2,5)))"
   ]
  },
  {
   "cell_type": "code",
   "execution_count": 35,
   "id": "48724071-8c76-4538-90b3-7055a519ade6",
   "metadata": {},
   "outputs": [
    {
     "name": "stdout",
     "output_type": "stream",
     "text": [
      "[[1. 0. 0.]\n",
      " [0. 1. 0.]\n",
      " [0. 0. 1.]]\n"
     ]
    }
   ],
   "source": [
    "print(np.eye(3)) ## creating an identity matrix"
   ]
  },
  {
   "cell_type": "code",
   "execution_count": 36,
   "id": "0626393d-c21a-42c1-96f6-dcb57908f29b",
   "metadata": {},
   "outputs": [
    {
     "name": "stdout",
     "output_type": "stream",
     "text": [
      "[[2 2 2]\n",
      " [2 2 2]\n",
      " [2 2 2]]\n"
     ]
    }
   ],
   "source": [
    "print(np.full((3,3),2))"
   ]
  },
  {
   "cell_type": "code",
   "execution_count": 37,
   "id": "d1f7ba97-ec7d-41cc-91f6-cbc1b43ff83a",
   "metadata": {},
   "outputs": [
    {
     "name": "stdout",
     "output_type": "stream",
     "text": [
      "[[4.5 4.5 4.5]\n",
      " [4.5 4.5 4.5]\n",
      " [4.5 4.5 4.5]]\n"
     ]
    }
   ],
   "source": [
    "print(np.full((3,3),4.5))"
   ]
  },
  {
   "cell_type": "code",
   "execution_count": 42,
   "id": "b4aa91da-e296-47b7-a184-5be4b323b25f",
   "metadata": {},
   "outputs": [
    {
     "name": "stdout",
     "output_type": "stream",
     "text": [
      "[[4 4 4]\n",
      " [4 4 4]\n",
      " [4 4 4]]\n"
     ]
    }
   ],
   "source": [
    "ax=np.full((3,3),4.5, dtype= int)\n",
    "print(ax) ## used to chop the values to only integers"
   ]
  },
  {
   "cell_type": "code",
   "execution_count": 43,
   "id": "693f2809-73e9-48c5-aca0-d7b3d4a65f05",
   "metadata": {},
   "outputs": [
    {
     "name": "stdout",
     "output_type": "stream",
     "text": [
      "[[1 0 0 0 0]\n",
      " [0 2 0 0 0]\n",
      " [0 0 3 0 0]\n",
      " [0 0 0 4 0]\n",
      " [0 0 0 0 5]]\n"
     ]
    }
   ],
   "source": [
    "print(np.diag([1,2,3,4,5]))"
   ]
  },
  {
   "cell_type": "code",
   "execution_count": 44,
   "id": "272504f2-847a-4622-aafa-311bfc4d9def",
   "metadata": {},
   "outputs": [],
   "source": [
    "am=np.tile(ax,(3,1))"
   ]
  },
  {
   "cell_type": "code",
   "execution_count": 45,
   "id": "8ec0cdca-fbbc-4397-a376-03e55e807378",
   "metadata": {},
   "outputs": [
    {
     "name": "stdout",
     "output_type": "stream",
     "text": [
      "[[4 4 4]\n",
      " [4 4 4]\n",
      " [4 4 4]\n",
      " [4 4 4]\n",
      " [4 4 4]\n",
      " [4 4 4]\n",
      " [4 4 4]\n",
      " [4 4 4]\n",
      " [4 4 4]]\n"
     ]
    }
   ],
   "source": [
    "print(am)"
   ]
  },
  {
   "cell_type": "code",
   "execution_count": 47,
   "id": "f072b6dc-00dd-4f87-88f5-00e9069dbc94",
   "metadata": {},
   "outputs": [
    {
     "name": "stdout",
     "output_type": "stream",
     "text": [
      "0.3031104003775765\n"
     ]
    }
   ],
   "source": [
    "## ranndom value\n",
    "print(np.random.random())"
   ]
  },
  {
   "cell_type": "code",
   "execution_count": 51,
   "id": "3bd60ca0-5aff-43af-a219-a0db8713f4d0",
   "metadata": {},
   "outputs": [
    {
     "name": "stdout",
     "output_type": "stream",
     "text": [
      "13.047939846582516\n"
     ]
    }
   ],
   "source": [
    "## Random values in a range\n",
    "ami= 50*np.random.random() +2\n",
    "print(ami)"
   ]
  },
  {
   "cell_type": "code",
   "execution_count": 52,
   "id": "7a07b40b-135a-45e0-a971-15da663b5c74",
   "metadata": {},
   "outputs": [],
   "source": [
    "randomarray=np.random.random([3,3])"
   ]
  },
  {
   "cell_type": "code",
   "execution_count": 53,
   "id": "16dda040-3c99-4cb3-808a-93512a05c187",
   "metadata": {},
   "outputs": [
    {
     "name": "stdout",
     "output_type": "stream",
     "text": [
      "[[0.85263806 0.96216678 0.29673688]\n",
      " [0.71194492 0.19321906 0.3867044 ]\n",
      " [0.97031285 0.19205564 0.15205532]]\n"
     ]
    }
   ],
   "source": [
    "print(randomarray)"
   ]
  },
  {
   "cell_type": "code",
   "execution_count": null,
   "id": "5f9da074-c12f-4441-9834-a0d97dd13924",
   "metadata": {},
   "outputs": [],
   "source": []
  }
 ],
 "metadata": {
  "kernelspec": {
   "display_name": "Python 3 (ipykernel)",
   "language": "python",
   "name": "python3"
  },
  "language_info": {
   "codemirror_mode": {
    "name": "ipython",
    "version": 3
   },
   "file_extension": ".py",
   "mimetype": "text/x-python",
   "name": "python",
   "nbconvert_exporter": "python",
   "pygments_lexer": "ipython3",
   "version": "3.12.3"
  }
 },
 "nbformat": 4,
 "nbformat_minor": 5
}
